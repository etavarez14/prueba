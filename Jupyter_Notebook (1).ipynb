{
 "cells": [
  {
   "cell_type": "markdown",
   "id": "98fa1bbf-4b3e-4cf8-b18c-356b7d2be402",
   "metadata": {},
   "source": [
    "<h1>My Jupyter Notebook on IBM Watson Studio</h1>"
   ]
  },
  {
   "cell_type": "markdown",
   "id": "5fe26c89-5abd-4dca-b416-0d0a0ca9bea3",
   "metadata": {},
   "source": []
  },
  {
   "cell_type": "markdown",
   "id": "42d0e9ae-06ab-4e85-a143-04ef6c697c25",
   "metadata": {},
   "source": [
    "<b>Elvyn Tavarez</b>\n",
    "\n",
    "Data Scientist \n",
    " "
   ]
  },
  {
   "cell_type": "markdown",
   "id": "9c704404-0fdc-4420-b40e-0a50f7d2e322",
   "metadata": {},
   "source": [
    "<i>More than interest, I like data management, I am passionate about everything that has to do with data science.</i> "
   ]
  },
  {
   "cell_type": "markdown",
   "id": "57cc87e3-8cae-492f-83a8-9902c2fe255e",
   "metadata": {},
   "source": [
    "<h3>My code consists of a mathematical operation with two operators, addition and multiplication, then it prints the result.</h3>"
   ]
  },
  {
   "cell_type": "code",
   "execution_count": 3,
   "id": "4ccde8da-c4a6-40bd-88be-cf7beb9459ea",
   "metadata": {},
   "outputs": [
    {
     "data": {
      "text/plain": [
       "144"
      ]
     },
     "execution_count": 3,
     "metadata": {},
     "output_type": "execute_result"
    }
   ],
   "source": [
    "a=5\n",
    "b=10\n",
    "c=4\n",
    "print(a+b*c)"
   ]
  },
  {
   "cell_type": "markdown",
   "id": "f2c1f19e-4e63-45a4-9456-fc741d5a7d7a",
   "metadata": {},
   "source": [
    "<s>This sentence must be crossed out.</s>   <ol>Head Neck Arms</ol>    <hr>Horizontal rule is above</hr>"
   ]
  },
  {
   "cell_type": "code",
   "execution_count": null,
   "id": "5851698f-d85e-4e29-b2ef-39972a218421",
   "metadata": {},
   "outputs": [],
   "source": []
  }
 ],
 "metadata": {
  "kernelspec": {
   "display_name": "Python 3 (ipykernel)",
   "language": "python",
   "name": "python3"
  },
  "language_info": {
   "codemirror_mode": {
    "name": "ipython",
    "version": 3
   },
   "file_extension": ".py",
   "mimetype": "text/x-python",
   "name": "python",
   "nbconvert_exporter": "python",
   "pygments_lexer": "ipython3",
   "version": "3.9.12"
  }
 },
 "nbformat": 4,
 "nbformat_minor": 5
}
